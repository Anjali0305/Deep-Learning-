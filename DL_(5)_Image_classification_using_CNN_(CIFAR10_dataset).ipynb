{
  "nbformat": 4,
  "nbformat_minor": 0,
  "metadata": {
    "colab": {
      "name": "DL (5) Image classification using CNN (CIFAR10 dataset).ipynb",
      "provenance": []
    },
    "kernelspec": {
      "display_name": "Python 3",
      "name": "python3"
    },
    "language_info": {
      "name": "python"
    },
    "accelerator": "GPU"
  },
  "cells": [
    {
      "cell_type": "code",
      "metadata": {
        "id": "ivno6S-_c0UE"
      },
      "source": [
        "import numpy as np\n",
        "import tensorflow as tf\n",
        "from tensorflow.keras import datasets, layers, models\n",
        "import pandas as pd\n",
        "from matplotlib import pyplot as plt\n",
        "%matplotlib inline"
      ],
      "execution_count": 1,
      "outputs": []
    },
    {
      "cell_type": "code",
      "metadata": {
        "id": "yuLpMEg8c9VJ"
      },
      "source": [
        "(X_train,y_train), (X_test,y_test) = datasets.cifar10.load_data()"
      ],
      "execution_count": 16,
      "outputs": []
    },
    {
      "cell_type": "code",
      "metadata": {
        "colab": {
          "base_uri": "https://localhost:8080/"
        },
        "id": "kOKDhw1udGVg",
        "outputId": "3e321716-63cf-4f73-f723-f3dac694c0d1"
      },
      "source": [
        "X_train.shape, y_train.shape, X_test.shape, y_test.shape"
      ],
      "execution_count": 20,
      "outputs": [
        {
          "output_type": "execute_result",
          "data": {
            "text/plain": [
              "((50000, 32, 32, 3), (50000, 1), (10000, 32, 32, 3), (10000, 1))"
            ]
          },
          "metadata": {
            "tags": []
          },
          "execution_count": 20
        }
      ]
    },
    {
      "cell_type": "markdown",
      "metadata": {
        "id": "B1IDrXufdQ5g"
      },
      "source": [
        "train dataset has 50,000 32x32 small images. 3 stands for rgb\n",
        "\n",
        "\n",
        "test dataset has 10,000 32x32 small images. 3 stands for rgb "
      ]
    },
    {
      "cell_type": "code",
      "metadata": {
        "id": "B3GIZukzdNYw",
        "colab": {
          "base_uri": "https://localhost:8080/"
        },
        "outputId": "0c1b2b0a-974b-402b-9bac-6213ee69506a"
      },
      "source": [
        "# reshaping op of y to be 1D\n",
        "y_train = y_train.reshape(-1,)\n",
        "y_train[:5]"
      ],
      "execution_count": 21,
      "outputs": [
        {
          "output_type": "execute_result",
          "data": {
            "text/plain": [
              "array([6, 9, 9, 4, 1], dtype=uint8)"
            ]
          },
          "metadata": {
            "tags": []
          },
          "execution_count": 21
        }
      ]
    },
    {
      "cell_type": "code",
      "metadata": {
        "id": "-noLyUV2-M1N"
      },
      "source": [
        "y_test = y_test.reshape(-1,)"
      ],
      "execution_count": 22,
      "outputs": []
    },
    {
      "cell_type": "code",
      "metadata": {
        "id": "KRSwYh7Vdqfs"
      },
      "source": [
        "classes = [\"airplane\",\"automobile\",\"bird\",\"cat\",\"deer\",\"dog\",\"frog\",\"horse\",\"ship\",\"truck\"]\n",
        "\n",
        "def plot_sample(X, y, index):\n",
        "    plt.figure(figsize = (10,2))\n",
        "    plt.imshow(X[index])\n",
        "    plt.xlabel(classes[y[index]])"
      ],
      "execution_count": 23,
      "outputs": []
    },
    {
      "cell_type": "code",
      "metadata": {
        "colab": {
          "base_uri": "https://localhost:8080/",
          "height": 173
        },
        "id": "xqfsMs1Fdrqs",
        "outputId": "0c03faf3-0d0c-4b2e-8b83-73302b4a7015"
      },
      "source": [
        "#now checking the dataset\n",
        "plot_sample(X_train, y_train, 7)"
      ],
      "execution_count": 24,
      "outputs": [
        {
          "output_type": "display_data",
          "data": {
            "image/png": "[encoded data removed]",
            "text/plain": [
              "<Figure size 720x144 with 1 Axes>"
            ]
          },
          "metadata": {
            "tags": [],
            "needs_background": "light"
          }
        }
      ]
    },
    {
      "cell_type": "code",
      "metadata": {
        "colab": {
          "base_uri": "https://localhost:8080/",
          "height": 173
        },
        "id": "zcj7R3Vqdui4",
        "outputId": "1345d21c-0bae-479c-932c-2fc54dbb05cf"
      },
      "source": [
        "plot_sample(X_train, y_train, 54)"
      ],
      "execution_count": 25,
      "outputs": [
        {
          "output_type": "display_data",
          "data": {
            "image/png": "[encoded data removed]",
            "text/plain": [
              "<Figure size 720x144 with 1 Axes>"
            ]
          },
          "metadata": {
            "tags": [],
            "needs_background": "light"
          }
        }
      ]
    },
    {
      "cell_type": "code",
      "metadata": {
        "id": "-N-9mhusdyAD"
      },
      "source": [
        "#normalising the data by /255 for making it in 0-1 range\n",
        "X_train = X_train / 255.0\n",
        "X_test = X_test / 255.0"
      ],
      "execution_count": 26,
      "outputs": []
    },
    {
      "cell_type": "markdown",
      "metadata": {
        "id": "IT2ED_SSd4l0"
      },
      "source": [
        "#First trying the model with ANN and checking performance\n",
        "\n"
      ]
    },
    {
      "cell_type": "code",
      "metadata": {
        "colab": {
          "base_uri": "https://localhost:8080/"
        },
        "id": "M1hKRWj-d0qk",
        "outputId": "3022bbb1-d952-4d8d-c22e-e5a9e1655791"
      },
      "source": [
        "ann = models.Sequential([\n",
        "        layers.Flatten(input_shape=(32,32,3)),\n",
        "        layers.Dense(3000, activation='relu'),\n",
        "        layers.Dense(1000, activation='relu'),\n",
        "        layers.Dense(10, activation='softmax')    \n",
        "    ])\n",
        "\n",
        "ann.compile(optimizer='SGD',\n",
        "              loss='sparse_categorical_crossentropy',\n",
        "              metrics=['accuracy'])\n",
        "\n",
        "ann.fit(X_train, y_train, epochs=5)"
      ],
      "execution_count": 27,
      "outputs": [
        {
          "output_type": "stream",
          "text": [
            "Epoch 1/5\n",
            "1563/1563 [==============================] - 5s 3ms/step - loss: 1.8056 - accuracy: 0.3561\n",
            "Epoch 2/5\n",
            "1563/1563 [==============================] - 5s 3ms/step - loss: 1.6194 - accuracy: 0.4276\n",
            "Epoch 3/5\n",
            "1563/1563 [==============================] - 5s 3ms/step - loss: 1.5382 - accuracy: 0.4583\n",
            "Epoch 4/5\n",
            "1563/1563 [==============================] - 5s 3ms/step - loss: 1.4788 - accuracy: 0.4808\n",
            "Epoch 5/5\n",
            "1563/1563 [==============================] - 5s 3ms/step - loss: 1.4294 - accuracy: 0.4948\n"
          ],
          "name": "stdout"
        },
        {
          "output_type": "execute_result",
          "data": {
            "text/plain": [
              "<tensorflow.python.keras.callbacks.History at 0x7f82d4d22f90>"
            ]
          },
          "metadata": {
            "tags": []
          },
          "execution_count": 27
        }
      ]
    },
    {
      "cell_type": "code",
      "metadata": {
        "colab": {
          "base_uri": "https://localhost:8080/"
        },
        "id": "Fiv7S7NP8uwA",
        "outputId": "358f7df3-8a48-43fb-89c5-4347e9cc68dc"
      },
      "source": [
        "#Classification report\n",
        "from sklearn.metrics import confusion_matrix , classification_report\n",
        "import numpy as np\n",
        "y_pred = ann.predict(X_test)\n",
        "y_pred_classes = [np.argmax(element) for element in y_pred]\n",
        "\n",
        "print(\"Classification Report: \\n\", classification_report(y_test, y_pred_classes))"
      ],
      "execution_count": 29,
      "outputs": [
        {
          "output_type": "stream",
          "text": [
            "Classification Report: \n",
            "               precision    recall  f1-score   support\n",
            "\n",
            "           0       0.50      0.59      0.54      1000\n",
            "           1       0.70      0.49      0.58      1000\n",
            "           2       0.34      0.45      0.39      1000\n",
            "           3       0.38      0.24      0.29      1000\n",
            "           4       0.49      0.29      0.37      1000\n",
            "           5       0.40      0.42      0.41      1000\n",
            "           6       0.46      0.66      0.54      1000\n",
            "           7       0.58      0.55      0.56      1000\n",
            "           8       0.55      0.68      0.61      1000\n",
            "           9       0.60      0.54      0.57      1000\n",
            "\n",
            "    accuracy                           0.49     10000\n",
            "   macro avg       0.50      0.49      0.49     10000\n",
            "weighted avg       0.50      0.49      0.49     10000\n",
            "\n"
          ],
          "name": "stdout"
        }
      ]
    },
    {
      "cell_type": "markdown",
      "metadata": {
        "id": "XwbHiHNWCFMZ"
      },
      "source": [
        "#Now, Building this model with CNN"
      ]
    },
    {
      "cell_type": "code",
      "metadata": {
        "id": "qbh3WgXQCiC1"
      },
      "source": [
        "cnn = models.Sequential([\n",
        "    layers.Conv2D(filters=32, kernel_size=(3, 3), activation='relu', input_shape=(32, 32, 3)),\n",
        "    layers.MaxPooling2D((2, 2)),\n",
        "    \n",
        "    layers.Conv2D(filters=64, kernel_size=(3, 3), activation='relu'),\n",
        "    layers.MaxPooling2D((2, 2)),\n",
        "    \n",
        "    layers.Flatten(),\n",
        "    layers.Dense(64, activation='relu'),\n",
        "    layers.Dense(10, activation='softmax')\n",
        "])"
      ],
      "execution_count": 44,
      "outputs": []
    },
    {
      "cell_type": "code",
      "metadata": {
        "id": "IdmD_wFIClG1"
      },
      "source": [
        "cnn.compile(optimizer='adam',\n",
        "              loss='sparse_categorical_crossentropy',\n",
        "              metrics=['accuracy'])"
      ],
      "execution_count": 45,
      "outputs": []
    },
    {
      "cell_type": "code",
      "metadata": {
        "colab": {
          "base_uri": "https://localhost:8080/"
        },
        "id": "Non03lULDoLY",
        "outputId": "fbdf59ad-b8fd-4d48-8fa5-c2a33ec5d0ce"
      },
      "source": [
        "cnn.fit(X_train, y_train, epochs=10)"
      ],
      "execution_count": 46,
      "outputs": [
        {
          "output_type": "stream",
          "text": [
            "Epoch 1/10\n",
            "1563/1563 [==============================] - 5s 3ms/step - loss: 1.4651 - accuracy: 0.4751\n",
            "Epoch 2/10\n",
            "1563/1563 [==============================] - 5s 3ms/step - loss: 1.1259 - accuracy: 0.6048\n",
            "Epoch 3/10\n",
            "1563/1563 [==============================] - 5s 3ms/step - loss: 0.9942 - accuracy: 0.6527\n",
            "Epoch 4/10\n",
            "1563/1563 [==============================] - 5s 3ms/step - loss: 0.9119 - accuracy: 0.6824\n",
            "Epoch 5/10\n",
            "1563/1563 [==============================] - 5s 3ms/step - loss: 0.8453 - accuracy: 0.7064\n",
            "Epoch 6/10\n",
            "1563/1563 [==============================] - 5s 3ms/step - loss: 0.7917 - accuracy: 0.7232\n",
            "Epoch 7/10\n",
            "1563/1563 [==============================] - 5s 3ms/step - loss: 0.7469 - accuracy: 0.7409\n",
            "Epoch 8/10\n",
            "1563/1563 [==============================] - 5s 3ms/step - loss: 0.7009 - accuracy: 0.7554\n",
            "Epoch 9/10\n",
            "1563/1563 [==============================] - 5s 3ms/step - loss: 0.6626 - accuracy: 0.7704\n",
            "Epoch 10/10\n",
            "1563/1563 [==============================] - 5s 3ms/step - loss: 0.6328 - accuracy: 0.7788\n"
          ],
          "name": "stdout"
        },
        {
          "output_type": "execute_result",
          "data": {
            "text/plain": [
              "<tensorflow.python.keras.callbacks.History at 0x7f82c238cc10>"
            ]
          },
          "metadata": {
            "tags": []
          },
          "execution_count": 46
        }
      ]
    },
    {
      "cell_type": "code",
      "metadata": {
        "colab": {
          "base_uri": "https://localhost:8080/"
        },
        "id": "TyB5TjYxDsl0",
        "outputId": "658ef22d-85c3-4a4f-f853-761ad1cb3268"
      },
      "source": [
        "cnn.evaluate(X_test,y_test)"
      ],
      "execution_count": 47,
      "outputs": [
        {
          "output_type": "stream",
          "text": [
            "313/313 [==============================] - 1s 2ms/step - loss: 0.9217 - accuracy: 0.6955\n"
          ],
          "name": "stdout"
        },
        {
          "output_type": "execute_result",
          "data": {
            "text/plain": [
              "[0.9217093586921692, 0.6955000162124634]"
            ]
          },
          "metadata": {
            "tags": []
          },
          "execution_count": 47
        }
      ]
    },
    {
      "cell_type": "code",
      "metadata": {
        "colab": {
          "base_uri": "https://localhost:8080/"
        },
        "id": "ZmQ0bH0JENTg",
        "outputId": "f2e3ad34-cf1f-4277-ba61-f306af80320d"
      },
      "source": [
        "y_pred = cnn.predict(X_test)\n",
        "y_pred[:5]"
      ],
      "execution_count": 48,
      "outputs": [
        {
          "output_type": "execute_result",
          "data": {
            "text/plain": [
              "array([[9.6123409e-04, 2.6454882e-05, 6.1299419e-04, 9.6199304e-01,\n",
              "        3.1457621e-05, 2.1659516e-02, 7.1379971e-03, 1.1054201e-05,\n",
              "        7.5633172e-03, 2.9835630e-06],\n",
              "       [2.0021634e-04, 3.1984157e-03, 9.4995158e-08, 1.5631464e-07,\n",
              "        8.2689128e-10, 1.2483579e-09, 6.8724898e-10, 1.5320878e-11,\n",
              "        9.9657393e-01, 2.7207760e-05],\n",
              "       [1.3627925e-02, 1.8715374e-01, 1.5508194e-04, 7.4346932e-03,\n",
              "        4.0995004e-05, 9.2857292e-05, 3.0781666e-04, 1.0032323e-04,\n",
              "        7.7990669e-01, 1.1179860e-02],\n",
              "       [9.7074080e-01, 3.2423943e-04, 1.7953968e-03, 8.2872924e-04,\n",
              "        3.3897417e-05, 4.2093427e-05, 7.2278832e-05, 7.7108525e-06,\n",
              "        2.6115693e-02, 3.9148301e-05],\n",
              "       [1.3326273e-05, 2.4503430e-05, 3.5848869e-03, 9.8099103e-03,\n",
              "        8.4480470e-01, 1.2792120e-03, 1.4047942e-01, 1.6311965e-06,\n",
              "        1.3199303e-06, 1.2208758e-06]], dtype=float32)"
            ]
          },
          "metadata": {
            "tags": []
          },
          "execution_count": 48
        }
      ]
    },
    {
      "cell_type": "code",
      "metadata": {
        "colab": {
          "base_uri": "https://localhost:8080/"
        },
        "id": "N8JzyD1PFvLA",
        "outputId": "c8821342-2915-4e62-f297-4edf41604c19"
      },
      "source": [
        "y_classes = [np.argmax(element) for element in y_pred]\n",
        "\n",
        "print('Predicted values',y_classes[:5])"
      ],
      "execution_count": 54,
      "outputs": [
        {
          "output_type": "stream",
          "text": [
            "Predicted values [3, 8, 8, 0, 4]\n"
          ],
          "name": "stdout"
        }
      ]
    },
    {
      "cell_type": "code",
      "metadata": {
        "colab": {
          "base_uri": "https://localhost:8080/"
        },
        "id": "iHOGhF2CFzGI",
        "outputId": "cae509aa-237e-4cbb-bc1c-227d3bee3e01"
      },
      "source": [
        "print('Actual values',y_test[:5])\n"
      ],
      "execution_count": 55,
      "outputs": [
        {
          "output_type": "stream",
          "text": [
            "Actual values [3 8 8 0 6]\n"
          ],
          "name": "stdout"
        }
      ]
    },
    {
      "cell_type": "code",
      "metadata": {
        "colab": {
          "base_uri": "https://localhost:8080/",
          "height": 173
        },
        "id": "ChEMi7L3F2gS",
        "outputId": "5c023f97-66fa-4915-cafb-334dabea021b"
      },
      "source": [
        "plot_sample(X_test, y_test,3)"
      ],
      "execution_count": 53,
      "outputs": [
        {
          "output_type": "display_data",
          "data": {
            "image/png": "[encoded data removed]",
            "text/plain": [
              "<Figure size 720x144 with 1 Axes>"
            ]
          },
          "metadata": {
            "tags": [],
            "needs_background": "light"
          }
        }
      ]
    },
    {
      "cell_type": "code",
      "metadata": {
        "id": "NU9ZmT3wF7iC"
      },
      "source": [
        ""
      ],
      "execution_count": null,
      "outputs": []
    }
  ]
}